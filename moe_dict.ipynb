{
 "cells": [
  {
   "cell_type": "code",
   "execution_count": 1,
   "metadata": {
    "id": "1xwhPMFTMMWQ"
   },
   "outputs": [],
   "source": [
    "import requests\n",
    "from bs4 import BeautifulSoup"
   ]
  },
  {
   "cell_type": "code",
   "execution_count": 2,
   "metadata": {
    "id": "t8wxs8jaMM8J"
   },
   "outputs": [],
   "source": [
    "word = '容忍'\n",
    "\n",
    "res = requests.get(url = f'https://www.moedict.tw/{word}')\n",
    "soup = BeautifulSoup(res.text, 'lxml')\n",
    "\n",
    "span_ant = soup.select('span.antonyms')\n",
    "span_syn = soup.select('span.synonyms')\n",
    "\n",
    "if span_ant:\n",
    "  ant = soup.select('span.antonyms')[0].get_text()\n",
    "  ants = ant[1:].split('、')\n",
    "else: ants = []\n",
    "\n",
    "if span_syn:\n",
    "  syn = soup.select('span.synonyms')[0].get_text()\n",
    "  syns = syn[1:].split('、')\n",
    "else: syns = []\n",
    "\n",
    "moe_relations = {'antonyms': ants, 'synonyms': syns}"
   ]
  },
  {
   "cell_type": "code",
   "execution_count": 3,
   "metadata": {
    "colab": {
     "base_uri": "https://localhost:8080/"
    },
    "id": "Tiy12LboMSNV",
    "outputId": "91699c78-07d1-426d-e71d-85d5a7bdb112"
   },
   "outputs": [
    {
     "data": {
      "text/plain": [
       "{'antonyms': ['發作', '拒絕', '生氣'], 'synonyms': ['忍耐']}"
      ]
     },
     "execution_count": 3,
     "metadata": {},
     "output_type": "execute_result"
    }
   ],
   "source": [
    "moe_relations"
   ]
  },
  {
   "cell_type": "code",
   "execution_count": 4,
   "metadata": {
    "id": "_jKyIsj9P36-"
   },
   "outputs": [],
   "source": [
    "import urllib.request, urllib.parse\n",
    "import json"
   ]
  },
  {
   "cell_type": "code",
   "execution_count": 5,
   "metadata": {
    "id": "POmcU9d5PnrU"
   },
   "outputs": [],
   "source": [
    "word = '容忍'\n",
    "word_urllib = urllib.parse.quote_plus(word)"
   ]
  },
  {
   "cell_type": "code",
   "execution_count": 6,
   "metadata": {
    "id": "lPaIBEmwMUx5"
   },
   "outputs": [],
   "source": [
    "with urllib.request.urlopen(f'https://www.moedict.tw/raw/{word_urllib}') as url:\n",
    "    data = json.loads(url.read().decode())"
   ]
  },
  {
   "cell_type": "code",
   "execution_count": 7,
   "metadata": {
    "colab": {
     "base_uri": "https://localhost:8080/"
    },
    "id": "bAWM6DNzQxH3",
    "outputId": "3c8e35f0-82b4-4a22-e84c-4a25927b70b9"
   },
   "outputs": [
    {
     "data": {
      "text/plain": [
       "{'heteronyms': [{'bopomofo': 'ㄖㄨㄥˊ ㄖㄣˇ',\n",
       "   'bopomofo2': 'rúng rěn',\n",
       "   'definitions': [{'antonyms': '發作,拒絕,生氣',\n",
       "     'def': '包容、忍耐。',\n",
       "     'quote': ['漢書．卷八十六．王嘉傳：「唯陛下留神於擇賢，記善忘過，容忍臣子，勿責以備。」',\n",
       "      '元．無名氏．連環計．第四折：「倒是呂布兄弟還容忍得過，若我白袍李肅呵，殺了那老賊多時也。」'],\n",
       "     'synonyms': '忍耐'}],\n",
       "   'pinyin': 'róng rěn'}],\n",
       " 'title': '容忍'}"
      ]
     },
     "execution_count": 7,
     "metadata": {},
     "output_type": "execute_result"
    }
   ],
   "source": [
    "data"
   ]
  },
  {
   "cell_type": "code",
   "execution_count": 8,
   "metadata": {
    "id": "ZKq3AU7rOBju"
   },
   "outputs": [],
   "source": [
    "ants = data.get('heteronyms')[0].get('definitions')[0].get('antonyms')\n",
    "syns = data.get('heteronyms')[0].get('definitions')[0].get('synonyms')\n",
    "\n",
    "if ants:\n",
    "  ants = ants.split(',')\n",
    "else: ants = []\n",
    "\n",
    "if syns:\n",
    "  syns = syns.split(',')\n",
    "else: syns = []\n",
    "\n",
    "moe_relations = {'antonyms': ants, 'synonyms': syns}"
   ]
  },
  {
   "cell_type": "code",
   "execution_count": 9,
   "metadata": {
    "colab": {
     "base_uri": "https://localhost:8080/"
    },
    "id": "Y4zY82TIPCmq",
    "outputId": "8e368358-99b4-40f0-fbef-d62d7295fe6e"
   },
   "outputs": [
    {
     "data": {
      "text/plain": [
       "{'antonyms': ['發作', '拒絕', '生氣'], 'synonyms': ['忍耐']}"
      ]
     },
     "execution_count": 9,
     "metadata": {},
     "output_type": "execute_result"
    }
   ],
   "source": [
    "moe_relations"
   ]
  }
 ],
 "metadata": {
  "colab": {
   "name": "moe_dict.ipynb",
   "provenance": []
  },
  "kernelspec": {
   "display_name": "Python 3 (ipykernel)",
   "language": "python",
   "name": "python3"
  },
  "language_info": {
   "codemirror_mode": {
    "name": "ipython",
    "version": 3
   },
   "file_extension": ".py",
   "mimetype": "text/x-python",
   "name": "python",
   "nbconvert_exporter": "python",
   "pygments_lexer": "ipython3",
   "version": "3.9.10"
  }
 },
 "nbformat": 4,
 "nbformat_minor": 2
}
