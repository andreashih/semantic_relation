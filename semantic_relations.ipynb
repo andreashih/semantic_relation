{
  "nbformat": 4,
  "nbformat_minor": 0,
  "metadata": {
    "colab": {
      "name": "semantic_relations.ipynb",
      "provenance": []
    },
    "kernelspec": {
      "name": "python3",
      "display_name": "Python 3"
    },
    "language_info": {
      "name": "python"
    }
  },
  "cells": [
    {
      "cell_type": "code",
      "source": [
        "%%capture\n",
        "pip install -U CwnGraph"
      ],
      "metadata": {
        "id": "IZaJaV_gBGkW"
      },
      "execution_count": 1,
      "outputs": []
    },
    {
      "cell_type": "code",
      "source": [
        "# load CWN data (https://lopentu.github.io/CwnWeb)\n",
        "import CwnGraph\n",
        "#CwnGraph.download()\n",
        "from CwnGraph import CwnBase\n",
        "cwn = CwnBase()"
      ],
      "metadata": {
        "id": "U2WMN2AkBUSI"
      },
      "execution_count": 2,
      "outputs": []
    },
    {
      "cell_type": "code",
      "execution_count": 3,
      "metadata": {
        "id": "35y27ce5hjC1"
      },
      "outputs": [],
      "source": [
        "import requests\n",
        "from bs4 import BeautifulSoup\n",
        "import itertools"
      ]
    },
    {
      "cell_type": "code",
      "source": [
        "def get_relations(word):\n",
        "\n",
        "  # CWN (https://lopentu.github.io/CwnWeb)\n",
        "  lemma = cwn.find_lemma(f\"^{word}$\")\n",
        "  sense = [l.senses for l in lemma]\n",
        "  sense = list(itertools.chain.from_iterable(sense)) # flattern the list\n",
        "\n",
        "  rel = [s.relations for s in sense]\n",
        "  rel = list(itertools.chain.from_iterable(rel))\n",
        "  rel_word = list(set( [(x[0], x[1].head_word) for x in rel if 'Synset' not in str(x[1])] ))\n",
        "  \n",
        "  cwn_relations = dict()\n",
        "  for rel,word in rel_word:\n",
        "    cwn_relations.setdefault(rel, []).append(word)\n",
        "\n",
        "  # MOE dict (https://www.moedict.tw)\n",
        "  res = requests.get(url = f'https://www.moedict.tw/{word}')\n",
        "  soup = BeautifulSoup(res.text, 'lxml')\n",
        "\n",
        "  span_ant = soup.select(\"span.antonyms\")\n",
        "  span_syn = soup.select(\"span.synonyms\")\n",
        "\n",
        "  if span_ant:\n",
        "    ant = soup.select(\"span.antonyms\")[0].get_text()\n",
        "    ants = ant[1:].split('、')\n",
        "  else:\n",
        "    ants = []\n",
        "  \n",
        "  if span_syn:\n",
        "    syn = soup.select(\"span.synonyms\")[0].get_text()\n",
        "    syns = syn[1:].split('、')\n",
        "  else: syns = []\n",
        "\n",
        "  moe_relations = {'antonyms': ants, 'synonyms': syns}\n",
        "\n",
        "  semantic_relations = {'CWN': cwn_relations, 'MOE': moe_relations}\n",
        "\n",
        "  return semantic_relations"
      ],
      "metadata": {
        "id": "ydNyJWO9y13t"
      },
      "execution_count": 4,
      "outputs": []
    },
    {
      "cell_type": "code",
      "source": [
        "get_relations('容忍')"
      ],
      "metadata": {
        "colab": {
          "base_uri": "https://localhost:8080/"
        },
        "id": "W1lXHDLIDPNt",
        "outputId": "58bcd3e2-6f3e-422e-e002-080afce8bf58"
      },
      "execution_count": 6,
      "outputs": [
        {
          "output_type": "execute_result",
          "data": {
            "text/plain": [
              "{'CWN': {'has_facet': ['容忍']},\n",
              " 'MOE': {'antonyms': ['發作', '拒絕', '生氣'], 'synonyms': ['忍耐']}}"
            ]
          },
          "metadata": {},
          "execution_count": 6
        }
      ]
    }
  ]
}