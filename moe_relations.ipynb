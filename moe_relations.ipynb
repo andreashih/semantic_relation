{
  "nbformat": 4,
  "nbformat_minor": 0,
  "metadata": {
    "colab": {
      "name": "moe_relations.ipynb",
      "provenance": []
    },
    "kernelspec": {
      "name": "python3",
      "display_name": "Python 3"
    },
    "language_info": {
      "name": "python"
    }
  },
  "cells": [
    {
      "cell_type": "markdown",
      "source": [
        "### 方法一： BeautifulSoup"
      ],
      "metadata": {
        "id": "bq-iZBgMy51O"
      }
    },
    {
      "cell_type": "code",
      "source": [
        "import requests\n",
        "from bs4 import BeautifulSoup"
      ],
      "metadata": {
        "id": "0mJIVkMQysAv"
      },
      "execution_count": 1,
      "outputs": []
    },
    {
      "cell_type": "code",
      "source": [
        "word = '容忍'\n",
        "\n",
        "res = requests.get(url = f'https://www.moedict.tw/{word}')\n",
        "print(res)"
      ],
      "metadata": {
        "colab": {
          "base_uri": "https://localhost:8080/"
        },
        "id": "uvm2jBVwyxOJ",
        "outputId": "85988999-114e-4f25-e1e8-9e79f574da71"
      },
      "execution_count": 2,
      "outputs": [
        {
          "output_type": "stream",
          "name": "stdout",
          "text": [
            "<Response [200]>\n"
          ]
        }
      ]
    },
    {
      "cell_type": "code",
      "source": [
        "soup = BeautifulSoup(res.text, 'lxml')\n",
        "span_syn = soup.select('span.synonyms')\n",
        "span_ant = soup.select('span.antonyms')\n",
        "\n",
        "if span_syn:\n",
        "  syn = span_syn[0].get_text()\n",
        "  syns = syn[1:].split('、')\n",
        "else: syns = []\n",
        "\n",
        "if span_ant:\n",
        "  ant = span_ant[0].get_text()\n",
        "  ants = ant[1:].split('、')\n",
        "else: ants = []\n",
        "\n",
        "moe_relations = {'synonyms': syns, 'antonyms': ants}"
      ],
      "metadata": {
        "id": "Lvsi65TfyzqO"
      },
      "execution_count": 3,
      "outputs": []
    },
    {
      "cell_type": "code",
      "source": [
        "moe_relations"
      ],
      "metadata": {
        "colab": {
          "base_uri": "https://localhost:8080/"
        },
        "id": "5P7q1IJ8yz-1",
        "outputId": "676d3b34-d7f8-4f24-8c77-253273cc06b9"
      },
      "execution_count": 4,
      "outputs": [
        {
          "output_type": "execute_result",
          "data": {
            "text/plain": [
              "{'antonyms': ['發作', '拒絕', '生氣'], 'synonyms': ['忍耐']}"
            ]
          },
          "metadata": {},
          "execution_count": 4
        }
      ]
    },
    {
      "cell_type": "markdown",
      "source": [
        "### 方法二： urllib"
      ],
      "metadata": {
        "id": "nFz0SydNzAG2"
      }
    },
    {
      "cell_type": "code",
      "source": [
        "import urllib.request, urllib.parse\n",
        "import json"
      ],
      "metadata": {
        "id": "H2tFvGP9zAfd"
      },
      "execution_count": 5,
      "outputs": []
    },
    {
      "cell_type": "code",
      "source": [
        "word = '容忍'\n",
        "word_urllib = urllib.parse.quote_plus(word)\n",
        "\n",
        "with urllib.request.urlopen(f'https://www.moedict.tw/raw/{word_urllib}') as url:\n",
        "    data = json.loads(url.read().decode())"
      ],
      "metadata": {
        "id": "zhEVdcG3zC6q"
      },
      "execution_count": 6,
      "outputs": []
    },
    {
      "cell_type": "code",
      "source": [
        "data"
      ],
      "metadata": {
        "colab": {
          "base_uri": "https://localhost:8080/"
        },
        "id": "Ql8vv5o8zE8u",
        "outputId": "8ada170b-588b-4f57-c0c9-0a70f619e210"
      },
      "execution_count": 7,
      "outputs": [
        {
          "output_type": "execute_result",
          "data": {
            "text/plain": [
              "{'heteronyms': [{'bopomofo': 'ㄖㄨㄥˊ ㄖㄣˇ',\n",
              "   'bopomofo2': 'rúng rěn',\n",
              "   'definitions': [{'antonyms': '發作,拒絕,生氣',\n",
              "     'def': '包容、忍耐。',\n",
              "     'quote': ['漢書．卷八十六．王嘉傳：「唯陛下留神於擇賢，記善忘過，容忍臣子，勿責以備。」',\n",
              "      '元．無名氏．連環計．第四折：「倒是呂布兄弟還容忍得過，若我白袍李肅呵，殺了那老賊多時也。」'],\n",
              "     'synonyms': '忍耐'}],\n",
              "   'pinyin': 'róng rěn'}],\n",
              " 'title': '容忍'}"
            ]
          },
          "metadata": {},
          "execution_count": 7
        }
      ]
    },
    {
      "cell_type": "code",
      "source": [
        "syns = data.get('heteronyms')[0].get('definitions')[0].get('synonyms')\n",
        "ants = data.get('heteronyms')[0].get('definitions')[0].get('antonyms')\n",
        "\n",
        "if syns:\n",
        "  syns = syns.split(',')\n",
        "else: syns = []\n",
        "\n",
        "if ants:\n",
        "  ants = ants.split(',')\n",
        "else: ants = []\n",
        "\n",
        "moe_relations = {'synonyms': syns, 'antonyms': ants}"
      ],
      "metadata": {
        "id": "gCAC2kvIzIT3"
      },
      "execution_count": 8,
      "outputs": []
    },
    {
      "cell_type": "code",
      "source": [
        "moe_relations"
      ],
      "metadata": {
        "colab": {
          "base_uri": "https://localhost:8080/"
        },
        "id": "Y_ZHrnQ0zJzK",
        "outputId": "785e55df-1a25-4311-9a47-7ca0f3b524f5"
      },
      "execution_count": 9,
      "outputs": [
        {
          "output_type": "execute_result",
          "data": {
            "text/plain": [
              "{'antonyms': ['發作', '拒絕', '生氣'], 'synonyms': ['忍耐']}"
            ]
          },
          "metadata": {},
          "execution_count": 9
        }
      ]
    }
  ]
}